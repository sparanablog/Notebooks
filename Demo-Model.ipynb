{
 "cells": [
  {
   "cell_type": "markdown",
   "metadata": {},
   "source": [
    "# Build and train a simple model\n",
    "\n",
    "This is a notebook that builds and trains a simple model as an example of how to use Sparana. It uses ReLu activations with a linear final layer, Xavier initialization and the Adam optimizer. The layers, initialization and optimizer are interchangable with some other types in the library."
   ]
  },
  {
   "cell_type": "code",
   "execution_count": 1,
   "metadata": {},
   "outputs": [
    {
     "name": "stdout",
     "output_type": "stream",
     "text": [
      "Initalizing GPU weights\n"
     ]
    }
   ],
   "source": [
    "# Numpy and cupy are imported, because I use them in all of my experiments, you don't need them to run these cells\n",
    "import numpy as np\n",
    "import cupy as cp\n",
    "\n",
    "# This is needed to load the MNIST files for training and testing\n",
    "import pickle\n",
    "\n",
    "# These are the Sparana objects needed to build a model\n",
    "from sparana.model import model\n",
    "from sparana.layers import full_relu_layer\n",
    "from sparana.layers import full_linear_layer\n",
    "# This is the optimizer used to train the model\n",
    "from sparana.optimizer import adam_optimizer\n",
    "# Load the data into this object, which will return minibatches, and track how many minibatches/epochs \n",
    "# have been loaded\n",
    "from sparana.data_loader import loader\n",
    "\n",
    "# This is not needed to train and test a simple model, but I am going to demonstrate it here too\n",
    "from sparana.saver import model_saver\n",
    "# Put your own path in here\n",
    "path = 'path'\n",
    "\n",
    "# This initializes the model object, the 2 things that are required are the input size, and a list of layer objects.\n",
    "mymodel = model(input_size = 784, \n",
    "                # These are the layers input as a list, the final layer size is the number of classes the model will have.\n",
    "                layers = [full_relu_layer(size = 1000), \n",
    "                          full_relu_layer(size = 800),\n",
    "                          full_relu_layer(size = 400),\n",
    "                          full_linear_layer(size = 10)],\n",
    "                # This is set automatically, but I keep it in here as a demonstration\n",
    "                comp_type = 'GPU',\n",
    "               #dropout = 0.5\n",
    "               )\n",
    "\n",
    "# Initialize the weights here, after this randomly generated matrices are now in the GPU memory\n",
    "mymodel.initialize_weights('Xavier', bias_constant = 0.1)\n",
    "\n",
    "# Initialize the Adam optimizer, the associated matrices are now in GPU memory\n",
    "opt = adam_optimizer(mymodel, 0.0001, epsilon = 0.001)\n",
    "\n",
    "#Initialize the saver\n",
    "mysaver = model_saver(mymodel)\n",
    "\n",
    "# Initialize the loader object and load the MNIST dataset from pickle files using pickle\n",
    "myloader = loader(pickle.load(open('MNIST_train_images.p', 'rb')),\n",
    "                 pickle.load(open('MNIST_train_labels.p', 'rb')),\n",
    "                 pickle.load(open('MNIST_test_images.p', 'rb')),\n",
    "                 pickle.load(open('MNIST_test_labels.p', 'rb')))\n"
   ]
  },
  {
   "cell_type": "markdown",
   "metadata": {},
   "source": [
    "# Training\n",
    "\n",
    "This cell just trains, then stores the model on RAM. The saver object can save the model to the hard disk with the line:\n",
    "```python\n",
    "mysaver.pickle_model('filename.p')\n",
    "```\n",
    "\n",
    "Then instead of running the loop cell I run one with the \n",
    "```python\n",
    "mysaver.load_model('filename.p')\n",
    "```\n",
    "\n",
    "There are other notebooks where I do that."
   ]
  },
  {
   "cell_type": "code",
   "execution_count": 2,
   "metadata": {},
   "outputs": [
    {
     "name": "stdout",
     "output_type": "stream",
     "text": [
      "0.9839\n",
      "Epochs:  90\n",
      "Minibatches:  20000\n"
     ]
    }
   ],
   "source": [
    "# This is 20,000 training steps \n",
    "for i in range(20000):\n",
    "    images, labels = myloader.minibatch(250)\n",
    "    opt.train_step(images, labels)    \n",
    "\n",
    "print(mymodel.get_accuracy(myloader.test_data(), myloader.test_labels()))\n",
    "\n",
    "mysaver.store_model()\n",
    "\n",
    "myloader.print_stats()"
   ]
  }
 ],
 "metadata": {
  "kernelspec": {
   "display_name": "Python 3",
   "language": "python",
   "name": "python3"
  },
  "language_info": {
   "codemirror_mode": {
    "name": "ipython",
    "version": 3
   },
   "file_extension": ".py",
   "mimetype": "text/x-python",
   "name": "python",
   "nbconvert_exporter": "python",
   "pygments_lexer": "ipython3",
   "version": "3.6.3"
  }
 },
 "nbformat": 4,
 "nbformat_minor": 2
}
